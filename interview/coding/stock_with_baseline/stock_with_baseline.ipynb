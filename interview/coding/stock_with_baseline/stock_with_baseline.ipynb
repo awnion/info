{
 "metadata": {
  "language_info": {
   "codemirror_mode": {
    "name": "ipython",
    "version": 3
   },
   "file_extension": ".py",
   "mimetype": "text/x-python",
   "name": "python",
   "nbconvert_exporter": "python",
   "pygments_lexer": "ipython3",
   "version": "3.9.1-final"
  },
  "orig_nbformat": 2,
  "kernelspec": {
   "name": "python3",
   "display_name": "Python 3.9.1 64-bit",
   "metadata": {
    "interpreter": {
     "hash": "ac2eaa0ea0ebeafcc7822e65e46aa9d4f966f30b695406963e145ea4a91cd4fc"
    }
   }
  }
 },
 "nbformat": 4,
 "nbformat_minor": 2,
 "cells": [
  {
   "source": [
    "<a href=\"https://colab.research.google.com/github/awnion/info/blob/main/interview/coding/stock_with_baseline/stock_with_baseline.ipynb\" target=\"_blank\" alt=\"Open In Colab\"><img src=\"https://colab.research.google.com/assets/colab-badge.svg\"></a>\n",
    "\n",
    "# Stock price with baseline\n",
    "\n",
    "Given two arrays $A$ and $B$, both of size $n$.\n",
    "Array A is non-decreasing.\n",
    "\n",
    "Find: $\\min_{0 \\leq i \\neq j < n}{\\left( B_i - B_j + \\left| A_i – A_j \\right| \\right)}$\n",
    "\n",
    "`Tags: #google #phone_interview #linear #stock_price`"
   ],
   "cell_type": "markdown",
   "metadata": {}
  },
  {
   "source": [
    "## BF solution"
   ],
   "cell_type": "markdown",
   "metadata": {}
  },
  {
   "cell_type": "code",
   "execution_count": 1,
   "metadata": {},
   "outputs": [],
   "source": [
    "def bf(A, B):\n",
    "    N = len(A)\n",
    "    return min(\n",
    "        B[i] - B[j] + abs(A[i] - A[j]) \n",
    "        for i in range(N) \n",
    "        for j in range(N)\n",
    "        if i != j)"
   ]
  },
  {
   "source": [
    "## Linear solution\n",
    "\n",
    "Time $O(n)$ Space $O(1)$\n",
    "\n",
    "### Idea\n",
    "\n",
    "For `i < j`: $\n",
    "B_i - B_j + \\left| A_i – A_j \\right| \n",
    " = B_i - B_j + A_j – A_i \n",
    " = (B_i - A_i) - (B_j - A_j)$\n",
    "\n",
    "For `i > j`: $\n",
    "B_i - B_j + \\left| A_i – A_j \\right| \n",
    " = B_i - B_j + A_i – A_j\n",
    " = (B_i + A_i) - (B_j + A_j)$\n",
    "\n",
    "For each $k$ we can choose which is better: treat $k$ as $i$ in the equation or as $j$ (in other words: left or right direction)\n",
    "\n",
    "$$\n",
    "result = \\min_{1<k<n}{\\left(\n",
    "    \\min_{0 \\leq j < k}{\\left( (B_k - A_k) - (B_j - A_j) \\right)},\\\n",
    "    \\min_{0 \\leq i < k}{\\left( (B_i + A_i) - (B_k + A_k) \\right)}\n",
    "\\right)}\n",
    "$$\n",
    "\n",
    "Which is \n",
    "\n",
    "$$\n",
    "result = \\min_{1<k<n}{\\left(\n",
    "    (B_k - A_k) - \\max_{0 \\leq j < k}{(B_j - A_j)},\n",
    "    \\min_{0 \\leq i < k}{ (B_i + A_i) } - (B_k + A_k)\n",
    "\\right)}\n",
    "$$\n",
    "\n",
    "And each $\\max_{0 \\leq j < k}{(B_j - A_j)}$ and $\\min_{0 \\leq i < k}{ (B_i + A_i) }$ can be calculated in $O(1)$ if we store their values from previous iteration $k-1$ and update by values from iteration $k$."
   ],
   "cell_type": "markdown",
   "metadata": {}
  },
  {
   "cell_type": "code",
   "execution_count": 2,
   "metadata": {},
   "outputs": [],
   "source": [
    "def linear(A, B):\n",
    "    N = len(A)\n",
    "    cur_min_diff = B[0] - A[0]\n",
    "    cur_max_summ = B[0] + A[0]\n",
    "\n",
    "    r = float('inf')\n",
    "    for k in range(1, N):\n",
    "        r = min(\n",
    "            r, \n",
    "            cur_min_diff - (B[k] - A[k]), \n",
    "            (B[k] + A[k]) - cur_max_summ)\n",
    "\n",
    "        cur_max_summ = max(cur_max_summ, B[k] + A[k])\n",
    "        cur_min_diff = min(cur_min_diff, B[k] - A[k])\n",
    "\n",
    "    return r"
   ]
  },
  {
   "source": [
    "## Tests"
   ],
   "cell_type": "markdown",
   "metadata": {}
  },
  {
   "cell_type": "code",
   "execution_count": 3,
   "metadata": {},
   "outputs": [
    {
     "output_type": "stream",
     "name": "stdout",
     "text": [
      "([1, 1, 5, 5, 10], [1, 2, 1, 2, -5])\n-2\n-2\n([1, 2], [1, 2])\n0\n0\n"
     ]
    }
   ],
   "source": [
    "tests = [\n",
    "    (\n",
    "        [1, 1, 5, 5, 10],\n",
    "        [1, 2, 1, 2, -5],\n",
    "    ),\n",
    "    (\n",
    "        [1, 2],\n",
    "        [1, 2],\n",
    "    ),\n",
    "]\n",
    "\n",
    "for t in tests:\n",
    "    assert len(t[0]) == len(t[1]) and len(t[0]) > 1, f\"incorrect test {t=}\"\n",
    "    print(t)\n",
    "    print(bf(*t))\n",
    "    print(linear(*t))"
   ]
  }
 ]
}