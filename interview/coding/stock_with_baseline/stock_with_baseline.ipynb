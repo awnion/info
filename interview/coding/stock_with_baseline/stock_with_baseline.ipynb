{
 "metadata": {
  "language_info": {
   "codemirror_mode": {
    "name": "ipython",
    "version": 3
   },
   "file_extension": ".py",
   "mimetype": "text/x-python",
   "name": "python",
   "nbconvert_exporter": "python",
   "pygments_lexer": "ipython3",
   "version": "3.9.1-final"
  },
  "orig_nbformat": 2,
  "kernelspec": {
   "name": "python3",
   "display_name": "Python 3.9.1 64-bit",
   "metadata": {
    "interpreter": {
     "hash": "ac2eaa0ea0ebeafcc7822e65e46aa9d4f966f30b695406963e145ea4a91cd4fc"
    }
   }
  }
 },
 "nbformat": 4,
 "nbformat_minor": 2,
 "cells": [
  {
   "source": [
    "[![Open In Colab](https://colab.research.google.com/assets/colab-badge.svg)](https://colab.research.google.com/github/***.ipynb)\n",
    "\n",
    "# Stock price with baseline\n",
    "\n",
    "Given two arrays A and B, both of size n.\n",
    "\n",
    "Array A is non-decreasing.\n",
    "\n",
    "Minimize the value of expression B[i] - B[j] + abs( A[i] – A[j] ) for any i != j.\n",
    "\n",
    "Find the minimised value of the expression.\n",
    "\n",
    "`Tags: #google #phone_interview #linear #stock_price`"
   ],
   "cell_type": "markdown",
   "metadata": {}
  },
  {
   "source": [
    "## BF solution"
   ],
   "cell_type": "markdown",
   "metadata": {}
  },
  {
   "cell_type": "code",
   "execution_count": 1,
   "metadata": {},
   "outputs": [],
   "source": [
    "def bf(A, B):\n",
    "    N = len(A)\n",
    "    return min(\n",
    "        B[i] - B[j] + abs(A[i] - A[j]) \n",
    "        for i in range(N) \n",
    "        for j in range(N))"
   ]
  },
  {
   "source": [
    "## Linear solution\n",
    "\n",
    "Time $O(n)$ Space $O(1)$\n",
    "\n",
    "```\n",
    "if i < j:\n",
    "  B[i] - B[j] + abs(A[i] - A[j]) = (B[i] - A[i]) - (B[j] - A[j])\n",
    "\n",
    "if j < i:\n",
    "  B[i] - B[j] + abs(A[i] - A[j]) = (B[i] + A[i]) - (B[j] + A[j])\n",
    "\n",
    "result = min(\n",
    "    min of:\n",
    "        min(B[i] - A[i] for all i < k) - (B[k] + A[k])\n",
    "        or\n",
    "        (B[k] + A[k]) - max(B[j] + A[j] for all j < k)\n",
    "\n",
    "    for each k = 1..N-1\n",
    ")\n",
    "\n",
    "```"
   ],
   "cell_type": "markdown",
   "metadata": {}
  },
  {
   "cell_type": "code",
   "execution_count": 2,
   "metadata": {},
   "outputs": [],
   "source": [
    "def linear(A, B):\n",
    "    N = len(A)\n",
    "    cur_min_diff = B[0] - A[0]\n",
    "    cur_max_summ = B[0] + A[0]\n",
    "\n",
    "    r = float('inf')\n",
    "    for k in range(1, N):\n",
    "        diff = B[k] - A[k]\n",
    "        summ = B[k] + A[k]\n",
    "\n",
    "        r = min(\n",
    "            r, \n",
    "            cur_min_diff - diff, \n",
    "            summ - cur_max_summ)\n",
    "\n",
    "        cur_max_summ = max(cur_max_summ, summ)\n",
    "        cur_min_diff = min(cur_min_diff, diff)\n",
    "\n",
    "    return r"
   ]
  },
  {
   "source": [
    "## Tests"
   ],
   "cell_type": "markdown",
   "metadata": {}
  },
  {
   "cell_type": "code",
   "execution_count": 3,
   "metadata": {},
   "outputs": [
    {
     "output_type": "stream",
     "name": "stdout",
     "text": [
      "([1, 1, 5, 5, 10], [1, 2, 1, 2, -5])\n-2\n-2\n([1, 2], [1, 2])\n0\n0\n"
     ]
    }
   ],
   "source": [
    "tests = [\n",
    "    (\n",
    "        [1, 1, 5, 5, 10],\n",
    "        [1, 2, 1, 2, -5],\n",
    "    ),\n",
    "    (\n",
    "        [1, 2],\n",
    "        [1, 2],\n",
    "    ),\n",
    "]\n",
    "\n",
    "for t in tests:\n",
    "    assert len(t[0]) == len(t[1]) and len(t[0]) > 1, f\"incorrect test {t=}\"\n",
    "    print(t)\n",
    "    print(bf(*t))\n",
    "    print(linear(*t))"
   ]
  },
  {
   "cell_type": "code",
   "execution_count": null,
   "metadata": {},
   "outputs": [],
   "source": []
  }
 ]
}